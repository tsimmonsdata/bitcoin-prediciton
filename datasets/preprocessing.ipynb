{
 "cells": [
  {
   "cell_type": "code",
   "execution_count": 2,
   "metadata": {},
   "outputs": [],
   "source": [
    "import pandas as pd\n",
    "import glob"
   ]
  },
  {
   "cell_type": "code",
   "execution_count": 6,
   "metadata": {},
   "outputs": [
    {
     "data": {
      "text/plain": [
       "['Coinbase_BTCUSD_d.csv',\n",
       " 'Coinbase_ETHUSD_d.csv',\n",
       " 'Coinbase_LTCUSD_d.csv',\n",
       " 'Gdax_BTCUSD_d.csv',\n",
       " 'Gdax_ETHUSD_d.csv',\n",
       " 'Gdax_LTCUSD_d.csv',\n",
       " 'Gemini_BTCUSD_d.csv',\n",
       " 'Gemini_ETHUSD_d.csv',\n",
       " 'Gemini_LTCUSD_d.csv']"
      ]
     },
     "execution_count": 6,
     "metadata": {},
     "output_type": "execute_result"
    }
   ],
   "source": [
    "csv_list = glob.glob('*.csv')\n",
    "csv_list"
   ]
  },
  {
   "cell_type": "code",
   "execution_count": 32,
   "metadata": {},
   "outputs": [
    {
     "name": "stdout",
     "output_type": "stream",
     "text": [
      "<class 'pandas.core.frame.DataFrame'>\n",
      "RangeIndex: 1737 entries, 0 to 1736\n",
      "Data columns (total 8 columns):\n",
      "Date          1737 non-null object\n",
      "Symbol        1737 non-null object\n",
      "Open          1737 non-null float64\n",
      "High          1737 non-null float64\n",
      "Low           1737 non-null float64\n",
      "Close         1737 non-null float64\n",
      "Volume BTC    1737 non-null float64\n",
      "Volume USD    1737 non-null float64\n",
      "dtypes: float64(6), object(2)\n",
      "memory usage: 108.7+ KB\n"
     ]
    }
   ],
   "source": [
    "btc_df = pd.read_csv(csv_list[0], skiprows=1)\n",
    "btc_df.info()"
   ]
  },
  {
   "cell_type": "code",
   "execution_count": 44,
   "metadata": {},
   "outputs": [],
   "source": [
    "btc_df['Date'] = pd.to_datetime(btc_df['Date'])"
   ]
  },
  {
   "cell_type": "code",
   "execution_count": 31,
   "metadata": {},
   "outputs": [
    {
     "name": "stdout",
     "output_type": "stream",
     "text": [
      "<class 'pandas.core.frame.DataFrame'>\n",
      "DatetimeIndex: 973 entries, 2017-01-01 to 2019-08-31\n",
      "Data columns (total 4 columns):\n",
      "Bitcoin_US_unscaled    973 non-null int64\n",
      "Bitcoin_US_monthly     973 non-null int64\n",
      "scale                  973 non-null float64\n",
      "Bitcoin_US             973 non-null float64\n",
      "dtypes: float64(2), int64(2)\n",
      "memory usage: 38.0 KB\n"
     ]
    }
   ],
   "source": [
    "trend_df = pd.read_json('btc_trends.json')\n",
    "trend_df.info()"
   ]
  },
  {
   "cell_type": "code",
   "execution_count": 48,
   "metadata": {},
   "outputs": [],
   "source": [
    "trend_df['Date'] = trend_df.index\n",
    "btc_df = btc_df.merge(trend_df[['Date', 'Bitcoin_US']], on='Date', how='inner')"
   ]
  },
  {
   "cell_type": "code",
   "execution_count": 49,
   "metadata": {},
   "outputs": [
    {
     "data": {
      "text/html": [
       "<div>\n",
       "<style scoped>\n",
       "    .dataframe tbody tr th:only-of-type {\n",
       "        vertical-align: middle;\n",
       "    }\n",
       "\n",
       "    .dataframe tbody tr th {\n",
       "        vertical-align: top;\n",
       "    }\n",
       "\n",
       "    .dataframe thead th {\n",
       "        text-align: right;\n",
       "    }\n",
       "</style>\n",
       "<table border=\"1\" class=\"dataframe\">\n",
       "  <thead>\n",
       "    <tr style=\"text-align: right;\">\n",
       "      <th></th>\n",
       "      <th>Date</th>\n",
       "      <th>Symbol</th>\n",
       "      <th>Open</th>\n",
       "      <th>High</th>\n",
       "      <th>Low</th>\n",
       "      <th>Close</th>\n",
       "      <th>Volume BTC</th>\n",
       "      <th>Volume USD</th>\n",
       "      <th>Bitcoin_US</th>\n",
       "    </tr>\n",
       "  </thead>\n",
       "  <tbody>\n",
       "    <tr>\n",
       "      <td>0</td>\n",
       "      <td>2019-08-31</td>\n",
       "      <td>BTCUSD</td>\n",
       "      <td>9582.42</td>\n",
       "      <td>9707.48</td>\n",
       "      <td>9436.20</td>\n",
       "      <td>9600.86</td>\n",
       "      <td>3901.27</td>\n",
       "      <td>3.740691e+07</td>\n",
       "      <td>7.798337</td>\n",
       "    </tr>\n",
       "    <tr>\n",
       "      <td>1</td>\n",
       "      <td>2019-08-30</td>\n",
       "      <td>BTCUSD</td>\n",
       "      <td>9495.00</td>\n",
       "      <td>9699.00</td>\n",
       "      <td>9337.97</td>\n",
       "      <td>9582.42</td>\n",
       "      <td>8670.66</td>\n",
       "      <td>8.269492e+07</td>\n",
       "      <td>8.861746</td>\n",
       "    </tr>\n",
       "    <tr>\n",
       "      <td>2</td>\n",
       "      <td>2019-08-29</td>\n",
       "      <td>BTCUSD</td>\n",
       "      <td>9714.31</td>\n",
       "      <td>9717.03</td>\n",
       "      <td>9321.73</td>\n",
       "      <td>9495.00</td>\n",
       "      <td>13650.89</td>\n",
       "      <td>1.297221e+08</td>\n",
       "      <td>10.988565</td>\n",
       "    </tr>\n",
       "    <tr>\n",
       "      <td>3</td>\n",
       "      <td>2019-08-28</td>\n",
       "      <td>BTCUSD</td>\n",
       "      <td>10171.85</td>\n",
       "      <td>10277.00</td>\n",
       "      <td>9522.93</td>\n",
       "      <td>9714.31</td>\n",
       "      <td>15611.52</td>\n",
       "      <td>1.542690e+08</td>\n",
       "      <td>10.634096</td>\n",
       "    </tr>\n",
       "    <tr>\n",
       "      <td>4</td>\n",
       "      <td>2019-08-27</td>\n",
       "      <td>BTCUSD</td>\n",
       "      <td>10361.65</td>\n",
       "      <td>10379.87</td>\n",
       "      <td>10019.56</td>\n",
       "      <td>10171.85</td>\n",
       "      <td>7298.10</td>\n",
       "      <td>7.420059e+07</td>\n",
       "      <td>8.861746</td>\n",
       "    </tr>\n",
       "    <tr>\n",
       "      <td>...</td>\n",
       "      <td>...</td>\n",
       "      <td>...</td>\n",
       "      <td>...</td>\n",
       "      <td>...</td>\n",
       "      <td>...</td>\n",
       "      <td>...</td>\n",
       "      <td>...</td>\n",
       "      <td>...</td>\n",
       "      <td>...</td>\n",
       "    </tr>\n",
       "    <tr>\n",
       "      <td>956</td>\n",
       "      <td>2017-01-05</td>\n",
       "      <td>BTCUSD</td>\n",
       "      <td>1133.00</td>\n",
       "      <td>1175.00</td>\n",
       "      <td>880.00</td>\n",
       "      <td>995.05</td>\n",
       "      <td>20433.13</td>\n",
       "      <td>2.114421e+07</td>\n",
       "      <td>7.848101</td>\n",
       "    </tr>\n",
       "    <tr>\n",
       "      <td>957</td>\n",
       "      <td>2017-01-04</td>\n",
       "      <td>BTCUSD</td>\n",
       "      <td>1035.19</td>\n",
       "      <td>1147.00</td>\n",
       "      <td>1018.00</td>\n",
       "      <td>1133.00</td>\n",
       "      <td>16438.41</td>\n",
       "      <td>1.786048e+07</td>\n",
       "      <td>6.827848</td>\n",
       "    </tr>\n",
       "    <tr>\n",
       "      <td>958</td>\n",
       "      <td>2017-01-03</td>\n",
       "      <td>BTCUSD</td>\n",
       "      <td>1019.01</td>\n",
       "      <td>1036.69</td>\n",
       "      <td>1006.71</td>\n",
       "      <td>1035.19</td>\n",
       "      <td>7970.31</td>\n",
       "      <td>8.132386e+06</td>\n",
       "      <td>5.493671</td>\n",
       "    </tr>\n",
       "    <tr>\n",
       "      <td>959</td>\n",
       "      <td>2017-01-02</td>\n",
       "      <td>BTCUSD</td>\n",
       "      <td>996.82</td>\n",
       "      <td>1034.39</td>\n",
       "      <td>986.86</td>\n",
       "      <td>1019.01</td>\n",
       "      <td>7657.44</td>\n",
       "      <td>7.747191e+06</td>\n",
       "      <td>6.278481</td>\n",
       "    </tr>\n",
       "    <tr>\n",
       "      <td>960</td>\n",
       "      <td>2017-01-01</td>\n",
       "      <td>BTCUSD</td>\n",
       "      <td>970.47</td>\n",
       "      <td>1000.00</td>\n",
       "      <td>964.37</td>\n",
       "      <td>996.82</td>\n",
       "      <td>4380.47</td>\n",
       "      <td>4.316335e+06</td>\n",
       "      <td>3.531646</td>\n",
       "    </tr>\n",
       "  </tbody>\n",
       "</table>\n",
       "<p>961 rows × 9 columns</p>\n",
       "</div>"
      ],
      "text/plain": [
       "          Date  Symbol      Open      High       Low     Close  Volume BTC  \\\n",
       "0   2019-08-31  BTCUSD   9582.42   9707.48   9436.20   9600.86     3901.27   \n",
       "1   2019-08-30  BTCUSD   9495.00   9699.00   9337.97   9582.42     8670.66   \n",
       "2   2019-08-29  BTCUSD   9714.31   9717.03   9321.73   9495.00    13650.89   \n",
       "3   2019-08-28  BTCUSD  10171.85  10277.00   9522.93   9714.31    15611.52   \n",
       "4   2019-08-27  BTCUSD  10361.65  10379.87  10019.56  10171.85     7298.10   \n",
       "..         ...     ...       ...       ...       ...       ...         ...   \n",
       "956 2017-01-05  BTCUSD   1133.00   1175.00    880.00    995.05    20433.13   \n",
       "957 2017-01-04  BTCUSD   1035.19   1147.00   1018.00   1133.00    16438.41   \n",
       "958 2017-01-03  BTCUSD   1019.01   1036.69   1006.71   1035.19     7970.31   \n",
       "959 2017-01-02  BTCUSD    996.82   1034.39    986.86   1019.01     7657.44   \n",
       "960 2017-01-01  BTCUSD    970.47   1000.00    964.37    996.82     4380.47   \n",
       "\n",
       "       Volume USD  Bitcoin_US  \n",
       "0    3.740691e+07    7.798337  \n",
       "1    8.269492e+07    8.861746  \n",
       "2    1.297221e+08   10.988565  \n",
       "3    1.542690e+08   10.634096  \n",
       "4    7.420059e+07    8.861746  \n",
       "..            ...         ...  \n",
       "956  2.114421e+07    7.848101  \n",
       "957  1.786048e+07    6.827848  \n",
       "958  8.132386e+06    5.493671  \n",
       "959  7.747191e+06    6.278481  \n",
       "960  4.316335e+06    3.531646  \n",
       "\n",
       "[961 rows x 9 columns]"
      ]
     },
     "execution_count": 49,
     "metadata": {},
     "output_type": "execute_result"
    }
   ],
   "source": [
    "btc_df.rename({'Bitcoin_US':'Trend Value'})"
   ]
  },
  {
   "cell_type": "code",
   "execution_count": null,
   "metadata": {},
   "outputs": [],
   "source": []
  }
 ],
 "metadata": {
  "kernelspec": {
   "display_name": "Python 3",
   "language": "python",
   "name": "python3"
  },
  "language_info": {
   "codemirror_mode": {
    "name": "ipython",
    "version": 3
   },
   "file_extension": ".py",
   "mimetype": "text/x-python",
   "name": "python",
   "nbconvert_exporter": "python",
   "pygments_lexer": "ipython3",
   "version": "3.7.4"
  }
 },
 "nbformat": 4,
 "nbformat_minor": 2
}
