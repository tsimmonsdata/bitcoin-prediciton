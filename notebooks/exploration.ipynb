{
 "cells": [
  {
   "cell_type": "markdown",
   "metadata": {},
   "source": [
    "# Exploratory Data Analysis\n",
    "<a id='eda'></a>"
   ]
  },
  {
   "cell_type": "code",
   "execution_count": 1,
   "metadata": {},
   "outputs": [],
   "source": [
    "import pandas as pd\n",
    "from pandas.plotting import autocorrelation_plot\n",
    "import numpy as np\n",
    "import matplotlib.pyplot as plt\n",
    "from sklearn.preprocessing import MinMaxScaler\n",
    "from statsmodels.tsa.stattools import adfuller\n",
    "\n",
    "%matplotlib inline"
   ]
  },
  {
   "cell_type": "markdown",
   "metadata": {},
   "source": [
    "## Importing and Cleaning\n",
    "<a id='imp'></a>"
   ]
  },
  {
   "cell_type": "code",
   "execution_count": 2,
   "metadata": {
    "scrolled": false
   },
   "outputs": [
    {
     "data": {
      "text/html": [
       "<div>\n",
       "<style scoped>\n",
       "    .dataframe tbody tr th:only-of-type {\n",
       "        vertical-align: middle;\n",
       "    }\n",
       "\n",
       "    .dataframe tbody tr th {\n",
       "        vertical-align: top;\n",
       "    }\n",
       "\n",
       "    .dataframe thead th {\n",
       "        text-align: right;\n",
       "    }\n",
       "</style>\n",
       "<table border=\"1\" class=\"dataframe\">\n",
       "  <thead>\n",
       "    <tr style=\"text-align: right;\">\n",
       "      <th></th>\n",
       "      <th>open</th>\n",
       "      <th>high</th>\n",
       "      <th>low</th>\n",
       "      <th>close</th>\n",
       "      <th>volume</th>\n",
       "      <th>marketcap</th>\n",
       "    </tr>\n",
       "    <tr>\n",
       "      <th>date</th>\n",
       "      <th></th>\n",
       "      <th></th>\n",
       "      <th></th>\n",
       "      <th></th>\n",
       "      <th></th>\n",
       "      <th></th>\n",
       "    </tr>\n",
       "  </thead>\n",
       "  <tbody>\n",
       "    <tr>\n",
       "      <td>2014-01-01</td>\n",
       "      <td>754.97</td>\n",
       "      <td>775.35</td>\n",
       "      <td>754.97</td>\n",
       "      <td>771.40</td>\n",
       "      <td>22489400</td>\n",
       "      <td>9403308145</td>\n",
       "    </tr>\n",
       "    <tr>\n",
       "      <td>2014-01-02</td>\n",
       "      <td>773.44</td>\n",
       "      <td>820.31</td>\n",
       "      <td>767.21</td>\n",
       "      <td>802.39</td>\n",
       "      <td>38489500</td>\n",
       "      <td>9781073921</td>\n",
       "    </tr>\n",
       "    <tr>\n",
       "      <td>2014-01-03</td>\n",
       "      <td>802.85</td>\n",
       "      <td>834.15</td>\n",
       "      <td>789.12</td>\n",
       "      <td>818.72</td>\n",
       "      <td>37810100</td>\n",
       "      <td>9980135396</td>\n",
       "    </tr>\n",
       "    <tr>\n",
       "      <td>2014-01-04</td>\n",
       "      <td>823.27</td>\n",
       "      <td>859.51</td>\n",
       "      <td>801.67</td>\n",
       "      <td>859.51</td>\n",
       "      <td>38005000</td>\n",
       "      <td>10477362437</td>\n",
       "    </tr>\n",
       "    <tr>\n",
       "      <td>2014-01-05</td>\n",
       "      <td>858.55</td>\n",
       "      <td>952.40</td>\n",
       "      <td>854.52</td>\n",
       "      <td>933.53</td>\n",
       "      <td>72898496</td>\n",
       "      <td>11379660685</td>\n",
       "    </tr>\n",
       "  </tbody>\n",
       "</table>\n",
       "</div>"
      ],
      "text/plain": [
       "              open    high     low   close    volume    marketcap\n",
       "date                                                             \n",
       "2014-01-01  754.97  775.35  754.97  771.40  22489400   9403308145\n",
       "2014-01-02  773.44  820.31  767.21  802.39  38489500   9781073921\n",
       "2014-01-03  802.85  834.15  789.12  818.72  37810100   9980135396\n",
       "2014-01-04  823.27  859.51  801.67  859.51  38005000  10477362437\n",
       "2014-01-05  858.55  952.40  854.52  933.53  72898496  11379660685"
      ]
     },
     "execution_count": 2,
     "metadata": {},
     "output_type": "execute_result"
    }
   ],
   "source": [
    "\"\"\"\n",
    "Load historical price data\n",
    "\"\"\"\n",
    "btc_df = pd.read_csv('../data/raw/btc_price.csv').drop('Unnamed: 0', axis=1)\n",
    "btc_df = btc_df.set_index('date')\n",
    "btc_df.index = pd.to_datetime(btc_df.index)\n",
    "btc_df = btc_df.reindex(index=btc_df.index[::-1])\n",
    "btc_df.head()"
   ]
  },
  {
   "cell_type": "code",
   "execution_count": 3,
   "metadata": {},
   "outputs": [
    {
     "data": {
      "text/html": [
       "<div>\n",
       "<style scoped>\n",
       "    .dataframe tbody tr th:only-of-type {\n",
       "        vertical-align: middle;\n",
       "    }\n",
       "\n",
       "    .dataframe tbody tr th {\n",
       "        vertical-align: top;\n",
       "    }\n",
       "\n",
       "    .dataframe thead th {\n",
       "        text-align: right;\n",
       "    }\n",
       "</style>\n",
       "<table border=\"1\" class=\"dataframe\">\n",
       "  <thead>\n",
       "    <tr style=\"text-align: right;\">\n",
       "      <th></th>\n",
       "      <th>trend</th>\n",
       "    </tr>\n",
       "    <tr>\n",
       "      <th>date</th>\n",
       "      <th></th>\n",
       "    </tr>\n",
       "  </thead>\n",
       "  <tbody>\n",
       "    <tr>\n",
       "      <td>2014-01-01</td>\n",
       "      <td>3.101767</td>\n",
       "    </tr>\n",
       "    <tr>\n",
       "      <td>2014-01-02</td>\n",
       "      <td>3.506346</td>\n",
       "    </tr>\n",
       "    <tr>\n",
       "      <td>2014-01-03</td>\n",
       "      <td>3.910924</td>\n",
       "    </tr>\n",
       "    <tr>\n",
       "      <td>2014-01-04</td>\n",
       "      <td>3.371486</td>\n",
       "    </tr>\n",
       "    <tr>\n",
       "      <td>2014-01-05</td>\n",
       "      <td>3.641205</td>\n",
       "    </tr>\n",
       "  </tbody>\n",
       "</table>\n",
       "</div>"
      ],
      "text/plain": [
       "               trend\n",
       "date                \n",
       "2014-01-01  3.101767\n",
       "2014-01-02  3.506346\n",
       "2014-01-03  3.910924\n",
       "2014-01-04  3.371486\n",
       "2014-01-05  3.641205"
      ]
     },
     "execution_count": 3,
     "metadata": {},
     "output_type": "execute_result"
    }
   ],
   "source": [
    "\"\"\"\n",
    "Load Google trend data\n",
    "\"\"\"\n",
    "trend_df = pd.read_csv('../data/raw/btc_trend.csv').drop('Unnamed: 0', axis=1)\n",
    "trend_df = trend_df.set_index('date')\n",
    "trend_df = trend_df.reindex(index=trend_df.index[::-1])\n",
    "trend_df.columns = ['trend']\n",
    "trend_df.head()"
   ]
  },
  {
   "cell_type": "code",
   "execution_count": 4,
   "metadata": {},
   "outputs": [
    {
     "name": "stdout",
     "output_type": "stream",
     "text": [
      "<class 'pandas.core.frame.DataFrame'>\n",
      "DatetimeIndex: 2106 entries, 2014-01-01 to 2019-10-07\n",
      "Data columns (total 6 columns):\n",
      "open         2106 non-null float64\n",
      "high         2106 non-null float64\n",
      "low          2106 non-null float64\n",
      "close        2106 non-null float64\n",
      "volume       2106 non-null int64\n",
      "marketcap    2106 non-null int64\n",
      "dtypes: float64(4), int64(2)\n",
      "memory usage: 115.2 KB\n"
     ]
    }
   ],
   "source": [
    "\"\"\"\n",
    "Check info\n",
    "\"\"\"\n",
    "btc_df.info()"
   ]
  },
  {
   "cell_type": "code",
   "execution_count": 5,
   "metadata": {},
   "outputs": [
    {
     "name": "stdout",
     "output_type": "stream",
     "text": [
      "<class 'pandas.core.frame.DataFrame'>\n",
      "Index: 2105 entries, 2014-01-01 to 2019-10-06\n",
      "Data columns (total 1 columns):\n",
      "trend    2105 non-null float64\n",
      "dtypes: float64(1)\n",
      "memory usage: 32.9+ KB\n"
     ]
    }
   ],
   "source": [
    "\"\"\"\n",
    "Check info\n",
    "\"\"\"\n",
    "trend_df.info()"
   ]
  },
  {
   "cell_type": "code",
   "execution_count": 6,
   "metadata": {
    "scrolled": true
   },
   "outputs": [
    {
     "data": {
      "text/html": [
       "<div>\n",
       "<style scoped>\n",
       "    .dataframe tbody tr th:only-of-type {\n",
       "        vertical-align: middle;\n",
       "    }\n",
       "\n",
       "    .dataframe tbody tr th {\n",
       "        vertical-align: top;\n",
       "    }\n",
       "\n",
       "    .dataframe thead th {\n",
       "        text-align: right;\n",
       "    }\n",
       "</style>\n",
       "<table border=\"1\" class=\"dataframe\">\n",
       "  <thead>\n",
       "    <tr style=\"text-align: right;\">\n",
       "      <th></th>\n",
       "      <th>open</th>\n",
       "      <th>high</th>\n",
       "      <th>low</th>\n",
       "      <th>close</th>\n",
       "      <th>volume</th>\n",
       "      <th>marketcap</th>\n",
       "      <th>trend</th>\n",
       "    </tr>\n",
       "    <tr>\n",
       "      <th>date</th>\n",
       "      <th></th>\n",
       "      <th></th>\n",
       "      <th></th>\n",
       "      <th></th>\n",
       "      <th></th>\n",
       "      <th></th>\n",
       "      <th></th>\n",
       "    </tr>\n",
       "  </thead>\n",
       "  <tbody>\n",
       "    <tr>\n",
       "      <td>2014-01-01</td>\n",
       "      <td>754.97</td>\n",
       "      <td>775.35</td>\n",
       "      <td>754.97</td>\n",
       "      <td>771.40</td>\n",
       "      <td>22489400</td>\n",
       "      <td>9403308145</td>\n",
       "      <td>3.101767</td>\n",
       "    </tr>\n",
       "    <tr>\n",
       "      <td>2014-01-02</td>\n",
       "      <td>773.44</td>\n",
       "      <td>820.31</td>\n",
       "      <td>767.21</td>\n",
       "      <td>802.39</td>\n",
       "      <td>38489500</td>\n",
       "      <td>9781073921</td>\n",
       "      <td>3.506346</td>\n",
       "    </tr>\n",
       "    <tr>\n",
       "      <td>2014-01-03</td>\n",
       "      <td>802.85</td>\n",
       "      <td>834.15</td>\n",
       "      <td>789.12</td>\n",
       "      <td>818.72</td>\n",
       "      <td>37810100</td>\n",
       "      <td>9980135396</td>\n",
       "      <td>3.910924</td>\n",
       "    </tr>\n",
       "    <tr>\n",
       "      <td>2014-01-04</td>\n",
       "      <td>823.27</td>\n",
       "      <td>859.51</td>\n",
       "      <td>801.67</td>\n",
       "      <td>859.51</td>\n",
       "      <td>38005000</td>\n",
       "      <td>10477362437</td>\n",
       "      <td>3.371486</td>\n",
       "    </tr>\n",
       "    <tr>\n",
       "      <td>2014-01-05</td>\n",
       "      <td>858.55</td>\n",
       "      <td>952.40</td>\n",
       "      <td>854.52</td>\n",
       "      <td>933.53</td>\n",
       "      <td>72898496</td>\n",
       "      <td>11379660685</td>\n",
       "      <td>3.641205</td>\n",
       "    </tr>\n",
       "  </tbody>\n",
       "</table>\n",
       "</div>"
      ],
      "text/plain": [
       "              open    high     low   close    volume    marketcap     trend\n",
       "date                                                                       \n",
       "2014-01-01  754.97  775.35  754.97  771.40  22489400   9403308145  3.101767\n",
       "2014-01-02  773.44  820.31  767.21  802.39  38489500   9781073921  3.506346\n",
       "2014-01-03  802.85  834.15  789.12  818.72  37810100   9980135396  3.910924\n",
       "2014-01-04  823.27  859.51  801.67  859.51  38005000  10477362437  3.371486\n",
       "2014-01-05  858.55  952.40  854.52  933.53  72898496  11379660685  3.641205"
      ]
     },
     "execution_count": 6,
     "metadata": {},
     "output_type": "execute_result"
    }
   ],
   "source": [
    "\"\"\"\n",
    "Merge dataframes\n",
    "\"\"\"\n",
    "btc_df = btc_df.merge(trend_df, left_index=True, right_index=True)\n",
    "btc_df.head()"
   ]
  },
  {
   "cell_type": "code",
   "execution_count": 7,
   "metadata": {
    "scrolled": false
   },
   "outputs": [
    {
     "data": {
      "text/html": [
       "<div>\n",
       "<style scoped>\n",
       "    .dataframe tbody tr th:only-of-type {\n",
       "        vertical-align: middle;\n",
       "    }\n",
       "\n",
       "    .dataframe tbody tr th {\n",
       "        vertical-align: top;\n",
       "    }\n",
       "\n",
       "    .dataframe thead th {\n",
       "        text-align: right;\n",
       "    }\n",
       "</style>\n",
       "<table border=\"1\" class=\"dataframe\">\n",
       "  <thead>\n",
       "    <tr style=\"text-align: right;\">\n",
       "      <th></th>\n",
       "      <th>open</th>\n",
       "      <th>high</th>\n",
       "      <th>low</th>\n",
       "      <th>close</th>\n",
       "      <th>volume</th>\n",
       "      <th>marketcap</th>\n",
       "      <th>trend</th>\n",
       "    </tr>\n",
       "  </thead>\n",
       "  <tbody>\n",
       "    <tr>\n",
       "      <td>count</td>\n",
       "      <td>2105.000000</td>\n",
       "      <td>2105.000000</td>\n",
       "      <td>2105.000000</td>\n",
       "      <td>2105.000000</td>\n",
       "      <td>2.105000e+03</td>\n",
       "      <td>2.105000e+03</td>\n",
       "      <td>2105.000000</td>\n",
       "    </tr>\n",
       "    <tr>\n",
       "      <td>mean</td>\n",
       "      <td>3197.072010</td>\n",
       "      <td>3286.501986</td>\n",
       "      <td>3099.316917</td>\n",
       "      <td>3200.414185</td>\n",
       "      <td>3.523629e+09</td>\n",
       "      <td>5.432155e+10</td>\n",
       "      <td>5.559856</td>\n",
       "    </tr>\n",
       "    <tr>\n",
       "      <td>std</td>\n",
       "      <td>3812.437143</td>\n",
       "      <td>3941.602465</td>\n",
       "      <td>3658.917135</td>\n",
       "      <td>3813.437968</td>\n",
       "      <td>6.127481e+09</td>\n",
       "      <td>6.615433e+10</td>\n",
       "      <td>8.010420</td>\n",
       "    </tr>\n",
       "    <tr>\n",
       "      <td>min</td>\n",
       "      <td>176.900000</td>\n",
       "      <td>211.730000</td>\n",
       "      <td>171.510000</td>\n",
       "      <td>178.100000</td>\n",
       "      <td>2.857830e+06</td>\n",
       "      <td>2.444379e+09</td>\n",
       "      <td>0.921315</td>\n",
       "    </tr>\n",
       "    <tr>\n",
       "      <td>25%</td>\n",
       "      <td>423.620000</td>\n",
       "      <td>429.770000</td>\n",
       "      <td>418.480000</td>\n",
       "      <td>423.410000</td>\n",
       "      <td>3.227500e+07</td>\n",
       "      <td>6.201590e+09</td>\n",
       "      <td>1.502398</td>\n",
       "    </tr>\n",
       "    <tr>\n",
       "      <td>50%</td>\n",
       "      <td>795.990000</td>\n",
       "      <td>823.310000</td>\n",
       "      <td>780.000000</td>\n",
       "      <td>800.880000</td>\n",
       "      <td>1.218870e+08</td>\n",
       "      <td>1.182790e+10</td>\n",
       "      <td>2.832048</td>\n",
       "    </tr>\n",
       "    <tr>\n",
       "      <td>75%</td>\n",
       "      <td>6114.850000</td>\n",
       "      <td>6255.710000</td>\n",
       "      <td>5965.070000</td>\n",
       "      <td>6153.850000</td>\n",
       "      <td>4.788260e+09</td>\n",
       "      <td>1.054036e+11</td>\n",
       "      <td>6.849382</td>\n",
       "    </tr>\n",
       "    <tr>\n",
       "      <td>max</td>\n",
       "      <td>19475.800000</td>\n",
       "      <td>20089.000000</td>\n",
       "      <td>18974.100000</td>\n",
       "      <td>19497.400000</td>\n",
       "      <td>4.510573e+10</td>\n",
       "      <td>3.265025e+11</td>\n",
       "      <td>100.000000</td>\n",
       "    </tr>\n",
       "  </tbody>\n",
       "</table>\n",
       "</div>"
      ],
      "text/plain": [
       "               open          high           low         close        volume  \\\n",
       "count   2105.000000   2105.000000   2105.000000   2105.000000  2.105000e+03   \n",
       "mean    3197.072010   3286.501986   3099.316917   3200.414185  3.523629e+09   \n",
       "std     3812.437143   3941.602465   3658.917135   3813.437968  6.127481e+09   \n",
       "min      176.900000    211.730000    171.510000    178.100000  2.857830e+06   \n",
       "25%      423.620000    429.770000    418.480000    423.410000  3.227500e+07   \n",
       "50%      795.990000    823.310000    780.000000    800.880000  1.218870e+08   \n",
       "75%     6114.850000   6255.710000   5965.070000   6153.850000  4.788260e+09   \n",
       "max    19475.800000  20089.000000  18974.100000  19497.400000  4.510573e+10   \n",
       "\n",
       "          marketcap        trend  \n",
       "count  2.105000e+03  2105.000000  \n",
       "mean   5.432155e+10     5.559856  \n",
       "std    6.615433e+10     8.010420  \n",
       "min    2.444379e+09     0.921315  \n",
       "25%    6.201590e+09     1.502398  \n",
       "50%    1.182790e+10     2.832048  \n",
       "75%    1.054036e+11     6.849382  \n",
       "max    3.265025e+11   100.000000  "
      ]
     },
     "execution_count": 7,
     "metadata": {},
     "output_type": "execute_result"
    }
   ],
   "source": [
    "\"\"\"\n",
    "Check descriptive stats for possible outliers\n",
    "\"\"\"\n",
    "btc_df.describe()"
   ]
  },
  {
   "cell_type": "code",
   "execution_count": 8,
   "metadata": {
    "scrolled": true
   },
   "outputs": [
    {
     "data": {
      "text/html": [
       "<div>\n",
       "<style scoped>\n",
       "    .dataframe tbody tr th:only-of-type {\n",
       "        vertical-align: middle;\n",
       "    }\n",
       "\n",
       "    .dataframe tbody tr th {\n",
       "        vertical-align: top;\n",
       "    }\n",
       "\n",
       "    .dataframe thead th {\n",
       "        text-align: right;\n",
       "    }\n",
       "</style>\n",
       "<table border=\"1\" class=\"dataframe\">\n",
       "  <thead>\n",
       "    <tr style=\"text-align: right;\">\n",
       "      <th></th>\n",
       "      <th>open</th>\n",
       "      <th>high</th>\n",
       "      <th>low</th>\n",
       "      <th>close</th>\n",
       "      <th>volume</th>\n",
       "      <th>marketcap</th>\n",
       "      <th>trend</th>\n",
       "    </tr>\n",
       "    <tr>\n",
       "      <th>date</th>\n",
       "      <th></th>\n",
       "      <th></th>\n",
       "      <th></th>\n",
       "      <th></th>\n",
       "      <th></th>\n",
       "      <th></th>\n",
       "      <th></th>\n",
       "    </tr>\n",
       "  </thead>\n",
       "  <tbody>\n",
       "    <tr>\n",
       "      <td>2017-12-22</td>\n",
       "      <td>15898.0</td>\n",
       "      <td>15943.4</td>\n",
       "      <td>11833.0</td>\n",
       "      <td>13831.8</td>\n",
       "      <td>22197999616</td>\n",
       "      <td>231788283457</td>\n",
       "      <td>100.0</td>\n",
       "    </tr>\n",
       "  </tbody>\n",
       "</table>\n",
       "</div>"
      ],
      "text/plain": [
       "               open     high      low    close       volume     marketcap  \\\n",
       "date                                                                        \n",
       "2017-12-22  15898.0  15943.4  11833.0  13831.8  22197999616  231788283457   \n",
       "\n",
       "            trend  \n",
       "date               \n",
       "2017-12-22  100.0  "
      ]
     },
     "execution_count": 8,
     "metadata": {},
     "output_type": "execute_result"
    }
   ],
   "source": [
    "\"\"\"\n",
    "Max trend value is far from the mean, possible outlier\n",
    "\"\"\"\n",
    "btc_df[btc_df.trend == btc_df.trend.max()]"
   ]
  },
  {
   "cell_type": "code",
   "execution_count": 9,
   "metadata": {
    "scrolled": false
   },
   "outputs": [
    {
     "data": {
      "text/html": [
       "<div>\n",
       "<style scoped>\n",
       "    .dataframe tbody tr th:only-of-type {\n",
       "        vertical-align: middle;\n",
       "    }\n",
       "\n",
       "    .dataframe tbody tr th {\n",
       "        vertical-align: top;\n",
       "    }\n",
       "\n",
       "    .dataframe thead th {\n",
       "        text-align: right;\n",
       "    }\n",
       "</style>\n",
       "<table border=\"1\" class=\"dataframe\">\n",
       "  <thead>\n",
       "    <tr style=\"text-align: right;\">\n",
       "      <th></th>\n",
       "      <th>open</th>\n",
       "      <th>high</th>\n",
       "      <th>low</th>\n",
       "      <th>close</th>\n",
       "      <th>volume</th>\n",
       "      <th>marketcap</th>\n",
       "      <th>trend</th>\n",
       "    </tr>\n",
       "    <tr>\n",
       "      <th>date</th>\n",
       "      <th></th>\n",
       "      <th></th>\n",
       "      <th></th>\n",
       "      <th></th>\n",
       "      <th></th>\n",
       "      <th></th>\n",
       "      <th></th>\n",
       "    </tr>\n",
       "  </thead>\n",
       "  <tbody>\n",
       "    <tr>\n",
       "      <td>2017-12-20</td>\n",
       "      <td>17760.3</td>\n",
       "      <td>17934.7</td>\n",
       "      <td>16077.7</td>\n",
       "      <td>16624.6</td>\n",
       "      <td>22149699584</td>\n",
       "      <td>278528964015</td>\n",
       "      <td>70.0</td>\n",
       "    </tr>\n",
       "    <tr>\n",
       "      <td>2017-12-21</td>\n",
       "      <td>16642.4</td>\n",
       "      <td>17567.7</td>\n",
       "      <td>15342.7</td>\n",
       "      <td>15802.9</td>\n",
       "      <td>16516599808</td>\n",
       "      <td>264788651530</td>\n",
       "      <td>53.0</td>\n",
       "    </tr>\n",
       "    <tr>\n",
       "      <td>2017-12-22</td>\n",
       "      <td>15898.0</td>\n",
       "      <td>15943.4</td>\n",
       "      <td>11833.0</td>\n",
       "      <td>13831.8</td>\n",
       "      <td>22197999616</td>\n",
       "      <td>231788283457</td>\n",
       "      <td>100.0</td>\n",
       "    </tr>\n",
       "    <tr>\n",
       "      <td>2017-12-23</td>\n",
       "      <td>13948.7</td>\n",
       "      <td>15603.2</td>\n",
       "      <td>13828.8</td>\n",
       "      <td>14699.2</td>\n",
       "      <td>13086000128</td>\n",
       "      <td>246349213910</td>\n",
       "      <td>63.0</td>\n",
       "    </tr>\n",
       "    <tr>\n",
       "      <td>2017-12-24</td>\n",
       "      <td>14608.2</td>\n",
       "      <td>14626.0</td>\n",
       "      <td>12747.7</td>\n",
       "      <td>13925.8</td>\n",
       "      <td>11572299776</td>\n",
       "      <td>233414163395</td>\n",
       "      <td>48.0</td>\n",
       "    </tr>\n",
       "  </tbody>\n",
       "</table>\n",
       "</div>"
      ],
      "text/plain": [
       "               open     high      low    close       volume     marketcap  \\\n",
       "date                                                                        \n",
       "2017-12-20  17760.3  17934.7  16077.7  16624.6  22149699584  278528964015   \n",
       "2017-12-21  16642.4  17567.7  15342.7  15802.9  16516599808  264788651530   \n",
       "2017-12-22  15898.0  15943.4  11833.0  13831.8  22197999616  231788283457   \n",
       "2017-12-23  13948.7  15603.2  13828.8  14699.2  13086000128  246349213910   \n",
       "2017-12-24  14608.2  14626.0  12747.7  13925.8  11572299776  233414163395   \n",
       "\n",
       "            trend  \n",
       "date               \n",
       "2017-12-20   70.0  \n",
       "2017-12-21   53.0  \n",
       "2017-12-22  100.0  \n",
       "2017-12-23   63.0  \n",
       "2017-12-24   48.0  "
      ]
     },
     "execution_count": 9,
     "metadata": {},
     "output_type": "execute_result"
    }
   ],
   "source": [
    "\"\"\"\n",
    "Check associated values\n",
    "\"\"\"\n",
    "btc_df['2017-12-20':'2017-12-24']"
   ]
  },
  {
   "cell_type": "markdown",
   "metadata": {},
   "source": [
    "This trend value point doesn't seem like an outlier and the range of values for the rest of the features seem reasonable."
   ]
  },
  {
   "cell_type": "markdown",
   "metadata": {},
   "source": [
    "## Visualization\n",
    "<a id='viz'></a>"
   ]
  },
  {
   "cell_type": "markdown",
   "metadata": {},
   "source": [
    "Check time series and value counts for close and trend values."
   ]
  },
  {
   "cell_type": "code",
   "execution_count": 10,
   "metadata": {
    "scrolled": true
   },
   "outputs": [
    {
     "name": "stderr",
     "output_type": "stream",
     "text": [
      "D:\\Programs\\Anaconda\\envs\\capstone\\lib\\site-packages\\pandas\\plotting\\_matplotlib\\converter.py:103: FutureWarning: Using an implicitly registered datetime converter for a matplotlib plotting method. The converter was registered by pandas on import. Future versions of pandas will require you to explicitly register matplotlib converters.\n",
      "\n",
      "To register the converters:\n",
      "\t>>> from pandas.plotting import register_matplotlib_converters\n",
      "\t>>> register_matplotlib_converters()\n",
      "  warnings.warn(msg, FutureWarning)\n"
     ]
    },
    {
     "data": {
      "image/png": "[encoded data removed]",
      "text/plain": [
       "<Figure size 432x288 with 1 Axes>"
      ]
     },
     "metadata": {
      "needs_background": "light"
     },
     "output_type": "display_data"
    }
   ],
   "source": [
    "plt.plot(btc_df.trend)\n",
    "plt.title('Trend Over Time')\n",
    "plt.xlabel('Date')\n",
    "plt.ylabel('Trend Value')\n",
    "plt.show()"
   ]
  },
  {
   "cell_type": "code",
   "execution_count": 11,
   "metadata": {
    "scrolled": true
   },
   "outputs": [
    {
     "data": {
      "image/png": "[encoded data removed]",
      "text/plain": [
       "<Figure size 432x288 with 1 Axes>"
      ]
     },
     "metadata": {
      "needs_background": "light"
     },
     "output_type": "display_data"
    }
   ],
   "source": [
    "plt.plot(btc_df.close)\n",
    "plt.title('Closing Price Over Time')\n",
    "plt.xlabel('Date')\n",
    "plt.ylabel('Closing Price')\n",
    "plt.show()"
   ]
  },
  {
   "cell_type": "code",
   "execution_count": 12,
   "metadata": {},
   "outputs": [
    {
     "data": {
      "image/png": "[encoded data removed]",
      "text/plain": [
       "<Figure size 432x288 with 1 Axes>"
      ]
     },
     "metadata": {
      "needs_background": "light"
     },
     "output_type": "display_data"
    }
   ],
   "source": [
    "plt.hist(btc_df.close, bins = 100)\n",
    "plt.title('Histogram of Closing Values')\n",
    "plt.xlabel('Closing Value')\n",
    "plt.ylabel('Count')\n",
    "plt.show()"
   ]
  },
  {
   "cell_type": "code",
   "execution_count": 13,
   "metadata": {},
   "outputs": [
    {
     "data": {
      "image/png": "[encoded data removed]",
      "text/plain": [
       "<Figure size 432x288 with 1 Axes>"
      ]
     },
     "metadata": {
      "needs_background": "light"
     },
     "output_type": "display_data"
    }
   ],
   "source": [
    "plt.hist(btc_df.trend, bins=100)\n",
    "plt.title('Histogram of Trend Values')\n",
    "plt.xlabel('Trend')\n",
    "plt.ylabel('Counts')\n",
    "plt.show()"
   ]
  },
  {
   "cell_type": "code",
   "execution_count": 14,
   "metadata": {
    "scrolled": true
   },
   "outputs": [
    {
     "data": {
      "image/png": "[encoded data removed]",
      "text/plain": [
       "<Figure size 432x288 with 1 Axes>"
      ]
     },
     "metadata": {
      "needs_background": "light"
     },
     "output_type": "display_data"
    }
   ],
   "source": [
    "#log transform for better visualization\n",
    "plt.hist(np.log(btc_df.trend), bins=100)\n",
    "plt.title('Histogram of Trend Values')\n",
    "plt.xlabel('Log(Trend)')\n",
    "plt.ylabel('Counts')\n",
    "plt.show()"
   ]
  },
  {
   "cell_type": "code",
   "execution_count": 15,
   "metadata": {
    "scrolled": true
   },
   "outputs": [
    {
     "data": {
      "text/html": [
       "<div>\n",
       "<style scoped>\n",
       "    .dataframe tbody tr th:only-of-type {\n",
       "        vertical-align: middle;\n",
       "    }\n",
       "\n",
       "    .dataframe tbody tr th {\n",
       "        vertical-align: top;\n",
       "    }\n",
       "\n",
       "    .dataframe thead th {\n",
       "        text-align: right;\n",
       "    }\n",
       "</style>\n",
       "<table border=\"1\" class=\"dataframe\">\n",
       "  <thead>\n",
       "    <tr style=\"text-align: right;\">\n",
       "      <th></th>\n",
       "      <th>open</th>\n",
       "      <th>high</th>\n",
       "      <th>low</th>\n",
       "      <th>close</th>\n",
       "      <th>volume</th>\n",
       "      <th>marketcap</th>\n",
       "      <th>trend</th>\n",
       "    </tr>\n",
       "  </thead>\n",
       "  <tbody>\n",
       "    <tr>\n",
       "      <td>open</td>\n",
       "      <td>1.000000</td>\n",
       "      <td>0.998887</td>\n",
       "      <td>0.998155</td>\n",
       "      <td>0.997623</td>\n",
       "      <td>0.794270</td>\n",
       "      <td>0.997037</td>\n",
       "      <td>0.728047</td>\n",
       "    </tr>\n",
       "    <tr>\n",
       "      <td>high</td>\n",
       "      <td>0.998887</td>\n",
       "      <td>1.000000</td>\n",
       "      <td>0.997850</td>\n",
       "      <td>0.999054</td>\n",
       "      <td>0.796254</td>\n",
       "      <td>0.998042</td>\n",
       "      <td>0.741265</td>\n",
       "    </tr>\n",
       "    <tr>\n",
       "      <td>low</td>\n",
       "      <td>0.998155</td>\n",
       "      <td>0.997850</td>\n",
       "      <td>1.000000</td>\n",
       "      <td>0.998746</td>\n",
       "      <td>0.792735</td>\n",
       "      <td>0.998684</td>\n",
       "      <td>0.708017</td>\n",
       "    </tr>\n",
       "    <tr>\n",
       "      <td>close</td>\n",
       "      <td>0.997623</td>\n",
       "      <td>0.999054</td>\n",
       "      <td>0.998746</td>\n",
       "      <td>1.000000</td>\n",
       "      <td>0.794876</td>\n",
       "      <td>0.999335</td>\n",
       "      <td>0.729047</td>\n",
       "    </tr>\n",
       "    <tr>\n",
       "      <td>volume</td>\n",
       "      <td>0.794270</td>\n",
       "      <td>0.796254</td>\n",
       "      <td>0.792735</td>\n",
       "      <td>0.794876</td>\n",
       "      <td>1.000000</td>\n",
       "      <td>0.809340</td>\n",
       "      <td>0.496591</td>\n",
       "    </tr>\n",
       "    <tr>\n",
       "      <td>marketcap</td>\n",
       "      <td>0.997037</td>\n",
       "      <td>0.998042</td>\n",
       "      <td>0.998684</td>\n",
       "      <td>0.999335</td>\n",
       "      <td>0.809340</td>\n",
       "      <td>1.000000</td>\n",
       "      <td>0.712674</td>\n",
       "    </tr>\n",
       "    <tr>\n",
       "      <td>trend</td>\n",
       "      <td>0.728047</td>\n",
       "      <td>0.741265</td>\n",
       "      <td>0.708017</td>\n",
       "      <td>0.729047</td>\n",
       "      <td>0.496591</td>\n",
       "      <td>0.712674</td>\n",
       "      <td>1.000000</td>\n",
       "    </tr>\n",
       "  </tbody>\n",
       "</table>\n",
       "</div>"
      ],
      "text/plain": [
       "               open      high       low     close    volume  marketcap  \\\n",
       "open       1.000000  0.998887  0.998155  0.997623  0.794270   0.997037   \n",
       "high       0.998887  1.000000  0.997850  0.999054  0.796254   0.998042   \n",
       "low        0.998155  0.997850  1.000000  0.998746  0.792735   0.998684   \n",
       "close      0.997623  0.999054  0.998746  1.000000  0.794876   0.999335   \n",
       "volume     0.794270  0.796254  0.792735  0.794876  1.000000   0.809340   \n",
       "marketcap  0.997037  0.998042  0.998684  0.999335  0.809340   1.000000   \n",
       "trend      0.728047  0.741265  0.708017  0.729047  0.496591   0.712674   \n",
       "\n",
       "              trend  \n",
       "open       0.728047  \n",
       "high       0.741265  \n",
       "low        0.708017  \n",
       "close      0.729047  \n",
       "volume     0.496591  \n",
       "marketcap  0.712674  \n",
       "trend      1.000000  "
      ]
     },
     "execution_count": 15,
     "metadata": {},
     "output_type": "execute_result"
    }
   ],
   "source": [
    "\"\"\"\n",
    "Quick look at correlation\n",
    "\"\"\"\n",
    "btc_df.corr()"
   ]
  },
  {
   "cell_type": "markdown",
   "metadata": {},
   "source": [
    "Most of the financial variables are highly correlated, so we will focus mostly on the close value and trend."
   ]
  },
  {
   "cell_type": "code",
   "execution_count": 16,
   "metadata": {
    "scrolled": true
   },
   "outputs": [
    {
     "data": {
      "image/png": "[encoded data removed]",
      "text/plain": [
       "<Figure size 432x288 with 1 Axes>"
      ]
     },
     "metadata": {
      "needs_background": "light"
     },
     "output_type": "display_data"
    }
   ],
   "source": [
    "\"\"\"\n",
    "Check if variables are stationary\n",
    "\"\"\"\n",
    "autocorrelation_plot(btc_df.close)\n",
    "plt.show()"
   ]
  },
  {
   "cell_type": "code",
   "execution_count": 17,
   "metadata": {
    "scrolled": true
   },
   "outputs": [
    {
     "data": {
      "image/png": "[encoded data removed]",
      "text/plain": [
       "<Figure size 432x288 with 1 Axes>"
      ]
     },
     "metadata": {
      "needs_background": "light"
     },
     "output_type": "display_data"
    }
   ],
   "source": [
    "autocorrelation_plot(btc_df.trend)\n",
    "plt.show()"
   ]
  },
  {
   "cell_type": "markdown",
   "metadata": {},
   "source": [
    "We want the values we're going to use to be stationary, so close and trend values should be transformed."
   ]
  },
  {
   "cell_type": "markdown",
   "metadata": {},
   "source": [
    "## Feature Engineering\n",
    "<a id='eng'></a>"
   ]
  },
  {
   "cell_type": "markdown",
   "metadata": {},
   "source": [
    "Financial data is known to perform well when features such as the difference or rate of change are used. Price itself is not stationary or normally distributed so we want a better measure to feed into our model. The percent change values are also better log-scaled since they are bounded at -1.0."
   ]
  },
  {
   "cell_type": "code",
   "execution_count": 18,
   "metadata": {
    "scrolled": true
   },
   "outputs": [
    {
     "data": {
      "text/html": [
       "<div>\n",
       "<style scoped>\n",
       "    .dataframe tbody tr th:only-of-type {\n",
       "        vertical-align: middle;\n",
       "    }\n",
       "\n",
       "    .dataframe tbody tr th {\n",
       "        vertical-align: top;\n",
       "    }\n",
       "\n",
       "    .dataframe thead th {\n",
       "        text-align: right;\n",
       "    }\n",
       "</style>\n",
       "<table border=\"1\" class=\"dataframe\">\n",
       "  <thead>\n",
       "    <tr style=\"text-align: right;\">\n",
       "      <th></th>\n",
       "      <th>open</th>\n",
       "      <th>high</th>\n",
       "      <th>low</th>\n",
       "      <th>close</th>\n",
       "      <th>volume</th>\n",
       "      <th>marketcap</th>\n",
       "      <th>trend</th>\n",
       "      <th>log_returns</th>\n",
       "      <th>log_trend_chg</th>\n",
       "    </tr>\n",
       "    <tr>\n",
       "      <th>date</th>\n",
       "      <th></th>\n",
       "      <th></th>\n",
       "      <th></th>\n",
       "      <th></th>\n",
       "      <th></th>\n",
       "      <th></th>\n",
       "      <th></th>\n",
       "      <th></th>\n",
       "      <th></th>\n",
       "    </tr>\n",
       "  </thead>\n",
       "  <tbody>\n",
       "    <tr>\n",
       "      <td>2019-10-02</td>\n",
       "      <td>8344.21</td>\n",
       "      <td>8393.04</td>\n",
       "      <td>8227.70</td>\n",
       "      <td>8393.04</td>\n",
       "      <td>13125712443</td>\n",
       "      <td>150823797662</td>\n",
       "      <td>6.115520</td>\n",
       "      <td>0.005946</td>\n",
       "      <td>-0.113329</td>\n",
       "    </tr>\n",
       "    <tr>\n",
       "      <td>2019-10-03</td>\n",
       "      <td>8390.77</td>\n",
       "      <td>8414.23</td>\n",
       "      <td>8146.44</td>\n",
       "      <td>8259.99</td>\n",
       "      <td>13668823409</td>\n",
       "      <td>148448162840</td>\n",
       "      <td>6.360141</td>\n",
       "      <td>-0.015979</td>\n",
       "      <td>0.039221</td>\n",
       "    </tr>\n",
       "    <tr>\n",
       "      <td>2019-10-04</td>\n",
       "      <td>8259.49</td>\n",
       "      <td>8260.06</td>\n",
       "      <td>8151.24</td>\n",
       "      <td>8205.94</td>\n",
       "      <td>13139456229</td>\n",
       "      <td>147491804056</td>\n",
       "      <td>5.626278</td>\n",
       "      <td>-0.006565</td>\n",
       "      <td>-0.122602</td>\n",
       "    </tr>\n",
       "    <tr>\n",
       "      <td>2019-10-05</td>\n",
       "      <td>8210.15</td>\n",
       "      <td>8215.53</td>\n",
       "      <td>8071.12</td>\n",
       "      <td>8151.50</td>\n",
       "      <td>12200497197</td>\n",
       "      <td>146529229668</td>\n",
       "      <td>5.137037</td>\n",
       "      <td>-0.006656</td>\n",
       "      <td>-0.090972</td>\n",
       "    </tr>\n",
       "    <tr>\n",
       "      <td>2019-10-06</td>\n",
       "      <td>8149.88</td>\n",
       "      <td>8161.41</td>\n",
       "      <td>7958.85</td>\n",
       "      <td>7988.16</td>\n",
       "      <td>13160830305</td>\n",
       "      <td>143607672862</td>\n",
       "      <td>5.381658</td>\n",
       "      <td>-0.020242</td>\n",
       "      <td>0.046520</td>\n",
       "    </tr>\n",
       "  </tbody>\n",
       "</table>\n",
       "</div>"
      ],
      "text/plain": [
       "               open     high      low    close       volume     marketcap  \\\n",
       "date                                                                        \n",
       "2019-10-02  8344.21  8393.04  8227.70  8393.04  13125712443  150823797662   \n",
       "2019-10-03  8390.77  8414.23  8146.44  8259.99  13668823409  148448162840   \n",
       "2019-10-04  8259.49  8260.06  8151.24  8205.94  13139456229  147491804056   \n",
       "2019-10-05  8210.15  8215.53  8071.12  8151.50  12200497197  146529229668   \n",
       "2019-10-06  8149.88  8161.41  7958.85  7988.16  13160830305  143607672862   \n",
       "\n",
       "               trend  log_returns  log_trend_chg  \n",
       "date                                              \n",
       "2019-10-02  6.115520     0.005946      -0.113329  \n",
       "2019-10-03  6.360141    -0.015979       0.039221  \n",
       "2019-10-04  5.626278    -0.006565      -0.122602  \n",
       "2019-10-05  5.137037    -0.006656      -0.090972  \n",
       "2019-10-06  5.381658    -0.020242       0.046520  "
      ]
     },
     "execution_count": 18,
     "metadata": {},
     "output_type": "execute_result"
    }
   ],
   "source": [
    "btc_df['log_returns'] = np.log(btc_df['close'].pct_change() + 1)\n",
    "btc_df['log_trend_chg'] = np.log(btc_df['trend'].pct_change() + 1)\n",
    "btc_df.tail()"
   ]
  },
  {
   "cell_type": "code",
   "execution_count": 19,
   "metadata": {},
   "outputs": [
    {
     "data": {
      "image/png": "[encoded data removed]",
      "text/plain": [
       "<Figure size 432x288 with 1 Axes>"
      ]
     },
     "metadata": {
      "needs_background": "light"
     },
     "output_type": "display_data"
    }
   ],
   "source": [
    "plt.plot(btc_df.log_returns)\n",
    "plt.title('Log Return Over Time')\n",
    "plt.xlabel('Date')\n",
    "plt.ylabel('Log Return')\n",
    "plt.show()"
   ]
  },
  {
   "cell_type": "code",
   "execution_count": 20,
   "metadata": {},
   "outputs": [
    {
     "name": "stderr",
     "output_type": "stream",
     "text": [
      "D:\\Programs\\Anaconda\\envs\\capstone\\lib\\site-packages\\numpy\\lib\\histograms.py:824: RuntimeWarning: invalid value encountered in greater_equal\n",
      "  keep = (tmp_a >= first_edge)\n",
      "D:\\Programs\\Anaconda\\envs\\capstone\\lib\\site-packages\\numpy\\lib\\histograms.py:825: RuntimeWarning: invalid value encountered in less_equal\n",
      "  keep &= (tmp_a <= last_edge)\n"
     ]
    },
    {
     "data": {
      "image/png": "[encoded data removed]",
      "text/plain": [
       "<Figure size 432x288 with 1 Axes>"
      ]
     },
     "metadata": {
      "needs_background": "light"
     },
     "output_type": "display_data"
    }
   ],
   "source": [
    "plt.hist(btc_df.log_returns, bins=100)\n",
    "plt.title('Histogram of Return Values')\n",
    "plt.xlabel('Log Return')\n",
    "plt.ylabel('Counts')\n",
    "plt.show()"
   ]
  },
  {
   "cell_type": "code",
   "execution_count": 21,
   "metadata": {
    "scrolled": true
   },
   "outputs": [
    {
     "data": {
      "image/png": "[encoded data removed]",
      "text/plain": [
       "<Figure size 432x288 with 1 Axes>"
      ]
     },
     "metadata": {
      "needs_background": "light"
     },
     "output_type": "display_data"
    }
   ],
   "source": [
    "plt.plot(btc_df.log_trend_chg)\n",
    "plt.title('Log Trend Change Over Time')\n",
    "plt.xlabel('Date')\n",
    "plt.ylabel('Log Trend Change')\n",
    "plt.show()"
   ]
  },
  {
   "cell_type": "code",
   "execution_count": 22,
   "metadata": {
    "scrolled": true
   },
   "outputs": [
    {
     "data": {
      "image/png": "[encoded data removed]",
      "text/plain": [
       "<Figure size 432x288 with 1 Axes>"
      ]
     },
     "metadata": {
      "needs_background": "light"
     },
     "output_type": "display_data"
    }
   ],
   "source": [
    "plt.hist(btc_df.log_trend_chg, bins=100)\n",
    "plt.title('Histogram of Log Trend Change Values')\n",
    "plt.xlabel('Log Trend Change')\n",
    "plt.ylabel('Counts')\n",
    "plt.show()"
   ]
  },
  {
   "cell_type": "markdown",
   "metadata": {},
   "source": [
    "The difference values are also better suited to be log transformed, since they are bounded at -1.0."
   ]
  },
  {
   "cell_type": "code",
   "execution_count": 23,
   "metadata": {},
   "outputs": [
    {
     "data": {
      "image/png": "[encoded data removed]",
      "text/plain": [
       "<Figure size 432x288 with 2 Axes>"
      ]
     },
     "metadata": {
      "needs_background": "light"
     },
     "output_type": "display_data"
    }
   ],
   "source": [
    "fig, axs = plt.subplots(2, sharex=True)\n",
    "axs[0].plot(btc_df.log_returns[1000:1200], 'b', label='Log Return')\n",
    "axs[0].set_title('Log Return Over Time')\n",
    "axs[1].plot(btc_df.log_trend_chg[1000:1200], 'r', label='Log Trend')\n",
    "axs[1].set_title('Log Trend Over Time')\n",
    "plt.xlabel('Date')\n",
    "plt.show()"
   ]
  },
  {
   "cell_type": "markdown",
   "metadata": {},
   "source": [
    "Although the variables are not strongly correlated, we can see that when the trend value increases the return values seem to be more volatile. Although the trend metric has no distinction between \"good\" or \"bad\" trends and therefore little predictive power in terms of determining positive or negative changes in return value, the trend data may help learn about periods of volatility. "
   ]
  },
  {
   "cell_type": "code",
   "execution_count": 24,
   "metadata": {},
   "outputs": [
    {
     "data": {
      "image/png": "[encoded data removed]",
      "text/plain": [
       "<Figure size 432x288 with 1 Axes>"
      ]
     },
     "metadata": {
      "needs_background": "light"
     },
     "output_type": "display_data"
    }
   ],
   "source": [
    "\"\"\"\n",
    "Check autocorrelation for transformed values\n",
    "\"\"\"\n",
    "autocorrelation_plot(btc_df.log_returns)\n",
    "plt.show()"
   ]
  },
  {
   "cell_type": "code",
   "execution_count": 25,
   "metadata": {
    "scrolled": true
   },
   "outputs": [
    {
     "data": {
      "image/png": "[encoded data removed]",
      "text/plain": [
       "<Figure size 432x288 with 1 Axes>"
      ]
     },
     "metadata": {
      "needs_background": "light"
     },
     "output_type": "display_data"
    }
   ],
   "source": [
    "autocorrelation_plot(btc_df.log_trend_chg)\n",
    "plt.show()"
   ]
  },
  {
   "cell_type": "code",
   "execution_count": 26,
   "metadata": {},
   "outputs": [
    {
     "data": {
      "text/html": [
       "<div>\n",
       "<style scoped>\n",
       "    .dataframe tbody tr th:only-of-type {\n",
       "        vertical-align: middle;\n",
       "    }\n",
       "\n",
       "    .dataframe tbody tr th {\n",
       "        vertical-align: top;\n",
       "    }\n",
       "\n",
       "    .dataframe thead th {\n",
       "        text-align: right;\n",
       "    }\n",
       "</style>\n",
       "<table border=\"1\" class=\"dataframe\">\n",
       "  <thead>\n",
       "    <tr style=\"text-align: right;\">\n",
       "      <th></th>\n",
       "      <th>log_trend_chg</th>\n",
       "      <th>log_returns</th>\n",
       "    </tr>\n",
       "  </thead>\n",
       "  <tbody>\n",
       "    <tr>\n",
       "      <td>log_trend_chg</td>\n",
       "      <td>1.00000</td>\n",
       "      <td>-0.00668</td>\n",
       "    </tr>\n",
       "    <tr>\n",
       "      <td>log_returns</td>\n",
       "      <td>-0.00668</td>\n",
       "      <td>1.00000</td>\n",
       "    </tr>\n",
       "  </tbody>\n",
       "</table>\n",
       "</div>"
      ],
      "text/plain": [
       "               log_trend_chg  log_returns\n",
       "log_trend_chg        1.00000     -0.00668\n",
       "log_returns         -0.00668      1.00000"
      ]
     },
     "execution_count": 26,
     "metadata": {},
     "output_type": "execute_result"
    }
   ],
   "source": [
    "btc_df[['log_trend_chg', 'log_returns']].corr()"
   ]
  },
  {
   "cell_type": "markdown",
   "metadata": {},
   "source": [
    "### Save DataFrame of log return and log trend values"
   ]
  },
  {
   "cell_type": "code",
   "execution_count": 28,
   "metadata": {},
   "outputs": [],
   "source": [
    "\"\"\"\n",
    "Save to csv and drop first row since they are NaN from pct_change\n",
    "\"\"\"\n",
    "btc_df[['log_trend_chg', 'log_returns']][1:].to_csv('../data/processed/price_trend_data.csv')"
   ]
  },
  {
   "cell_type": "code",
   "execution_count": null,
   "metadata": {},
   "outputs": [],
   "source": []
  }
 ],
 "metadata": {
  "kernelspec": {
   "display_name": "Python 3",
   "language": "python",
   "name": "python3"
  },
  "language_info": {
   "codemirror_mode": {
    "name": "ipython",
    "version": 3
   },
   "file_extension": ".py",
   "mimetype": "text/x-python",
   "name": "python",
   "nbconvert_exporter": "python",
   "pygments_lexer": "ipython3",
   "version": "3.7.4"
  }
 },
 "nbformat": 4,
 "nbformat_minor": 2
}
